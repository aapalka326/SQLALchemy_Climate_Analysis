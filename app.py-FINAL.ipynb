{
 "cells": [
  {
   "cell_type": "code",
   "execution_count": null,
   "metadata": {},
   "outputs": [],
   "source": [
    "# Referenced 10.3 #10 Flask with ORM--utilized this activity heavily and rewatched example multiple times"
   ]
  },
  {
   "cell_type": "code",
   "execution_count": null,
   "metadata": {},
   "outputs": [],
   "source": [
    "import numpy as np\n",
    "import pandas as pd\n",
    "import datetime as dt\n",
    "\n",
    "import sqlalchemy\n",
    "from sqlalchemy.ext.automap import automap_base\n",
    "from sqlalchemy.orm import Session\n",
    "from sqlalchemy import create_engine, func\n",
    "\n",
    "from flask import Flask, jsonify"
   ]
  },
  {
   "cell_type": "code",
   "execution_count": null,
   "metadata": {},
   "outputs": [],
   "source": [
    "# Database Setup\n",
    "engine = create_engine(\"sqlite:///Resources/hawaii.sqlite\")\n",
    "\n",
    "# Reflect an existing database into a new model\n",
    "Base = automap_base()\n",
    "\n",
    "# Reflect the tables\n",
    "Base.prepare(engine, reflect=True)\n",
    "\n",
    "# Save reference to the table\n",
    "Station = Base.classes.station\n",
    "Measurement = Base.classes.measurement"
   ]
  },
  {
   "cell_type": "code",
   "execution_count": null,
   "metadata": {},
   "outputs": [],
   "source": [
    "# Create session link to database\n",
    "session = Session(engine)"
   ]
  },
  {
   "cell_type": "code",
   "execution_count": null,
   "metadata": {},
   "outputs": [],
   "source": [
    "# Flask Set Up\n",
    "# Create an app being sure to pass __name__\n",
    "app = Flask(__name__)"
   ]
  },
  {
   "cell_type": "code",
   "execution_count": null,
   "metadata": {},
   "outputs": [],
   "source": [
    "# Flask Routes\n",
    "@app.route(\"/\")\n",
    "def welcome():\n",
    "    \"\"\"List all available API routes\"\"\"\n",
    "    return (\n",
    "       f\"Available Routes:<br/>\"\n",
    "        f\"/api/v1.0/precipitation<br/>\"\n",
    "        f\"/api/v1.0/stations<br/>\"\n",
    "        f\"/api/v1.0/tobs<br/>\"\n",
    "        f\"/api/v1.0/min_avg_max/<start><br/>\"\n",
    "        f\"/api/v1.0/min_avg_max/<start>/<end><br/>\"\n",
    "    )\n",
    "\n",
    "# Precipitation Route\n",
    "@app.route(\"/api/v1.0/precipitation\")\n",
    "def precipitation():\n",
    "    print(\"Request for 'Precipication' page...\")\n",
    "    \n",
    "    # Create session link to DB\n",
    "    session= Session(engine)\n",
    "    \n",
    "    # return a list of all Precipitation dates through a query\n",
    "    # results = session.query(Measurement.date, Measurement.prcp).all()\n",
    "    \n",
    "    # Calculate the date 1 year ago from last data point in database\n",
    "    # Referenced activity 10.3 #2 Reviewing of DateTime (calcualating a time delta and printing date objects)\n",
    "    ly_date = dt.date(2017,8,23) - dt.timedelta(days=365)\n",
    "\n",
    "    # Query for the date and precipitation for the last year\n",
    "    ly_data = session.query(Measurement.date, Measurement.prcp).\\\n",
    "        filter(Measurement.date >= ly_date).all()\n",
    "    \n",
    "    # Close Session\n",
    "    session.close()\n",
    "    \n",
    "    # Convert list of tuples into normal list\n",
    "    # Reference 10.3 #3 SQLAlchemy, SQLite, and Dates\n",
    "    precipitation = list(np.ravel(results))\n",
    "    \n",
    "    # Convert list to dictionary\n",
    "    \n",
    "    # jsonify results\n",
    "    return jsonify(precipitations)"
   ]
  },
  {
   "cell_type": "code",
   "execution_count": null,
   "metadata": {},
   "outputs": [],
   "source": [
    "# Stations Route\n",
    "@app.route(\"/api/v1.0/stations\")\n",
    "def stations():\n",
    "    print(\"Request for 'Stations' page...\")\n",
    "    \n",
    "    # Create session link to DB\n",
    "    session= Session(engine)\n",
    "    \n",
    "    # Return a list of all Precipitation dates through a query\n",
    "    results = session.query(Station.station).all()\n",
    "    \n",
    "    # Close Session\n",
    "    session.close()\n",
    "    \n",
    "    # Convert list of tuples into normal list\n",
    "    # Reference 10.3 #10 and #11\n",
    "    stations = list(np.ravel(results))\n",
    "   \n",
    "    # jsonify results\n",
    "    return jsonify(stations=stations)"
   ]
  },
  {
   "cell_type": "code",
   "execution_count": null,
   "metadata": {},
   "outputs": [],
   "source": [
    "# TOBS Route\n",
    "@app.route(\"/api/v1.0/tobs\")\n",
    "def temperature_observations():\n",
    "    print(\"Request for 'TOBS' page...\")\n",
    "    \n",
    "    # Create session link to DB\n",
    "    session= Session(engine)\n",
    "    \n",
    "    # Referenced activity 10.3 #2 Reviewing of DateTime (calcualating a time delta and printing date objects)\n",
    "    ly_date = dt.date(2017,8,23) - dt.timedelta(days=365)\n",
    "    \n",
    "    # Query dates and tobs of most active station for ly data\n",
    "    # Referenced activity 10.3 #1 Filtering Review\n",
    "    results = session.query(Measurement.tobs).\\\n",
    "        filter(Measurement.station == 'USC00519281').\\\n",
    "        filter(Measurement.date >= ly_date).all()\n",
    "\n",
    "    # Close Session\n",
    "    session.close()\n",
    "    \n",
    "    # Convert list of tuples into normal list\n",
    "    # Reference 10.3 #10 and #11\n",
    "    ly_temps = list(np.ravel(results))\n",
    "   \n",
    "    # jsonify results\n",
    "    return jsonify(ly_temps=ly_temps)\n"
   ]
  },
  {
   "cell_type": "code",
   "execution_count": null,
   "metadata": {},
   "outputs": [],
   "source": [
    "# Start and Start/End Routes\n",
    "@app.route(\"/api/v1.0/min_avg_max/<start>\")\n",
    "def start_date():\n",
    "    print(\"Request for 'Start Date'page...\")\n",
    "\n",
    "    #Create session link to DB\n",
    "    session=Session(engine)\n",
    "    \n",
    "    # When given start date only, calculate TMIN, TAVG, and TMAX \n",
    "    # for all dates greater than and equal to start date\n",
    "    # Referenced 10.3 3 \"Analysis\" for analyzing average prices and 10.3 #2 for Datetimes\n",
    "    # Referenced \n",
    "    sel = [func.min(Measurement.tobs),\n",
    "           func.avg(Measurement.tobs),\n",
    "           func.max(Measurement.tobs)]\n",
    "    \n",
    "        # Calculate TMIN, TAVG, TMAX for dates greater than and equal to the start\n",
    "        tob_queries = session.query(*sel).\\\n",
    "            filter(Measurement.date >= start).all()\n",
    "        \n",
    "        # Convert List of Tuples into a normal list\n",
    "        temp_data = list(np.ravel(tob_queries))\n",
    "        return jsonify(temps)\n",
    "\n",
    "    # Calculate TMIN, TAVG, TMAX for dates between the start and end date inclusive\n",
    "    # Use flask jsonify to convert your API data into valid JSON Response object\n",
    "    # Referenced 10.3 #3 \"Analysis\" and 10.3 #2 for Datetimes\n",
    "    tob_queries = session.query(*sel).\\\n",
    "        filter(Measurement.date >= start).\\\n",
    "        filter(Measurement.date <= end).all()\n",
    "  \n",
    "    # Convert List of Tuples into a normal List\n",
    "    temp_data = list(np.ravel(tob_queries))\n",
    "    return jsonify(temp_data)\n",
    "    \n",
    "if __name__ == '__main__':\n",
    "    app.run()"
   ]
  },
  {
   "cell_type": "code",
   "execution_count": null,
   "metadata": {},
   "outputs": [],
   "source": []
  },
  {
   "cell_type": "code",
   "execution_count": null,
   "metadata": {},
   "outputs": [],
   "source": []
  }
 ],
 "metadata": {
  "kernelspec": {
   "display_name": "Python 3",
   "language": "python",
   "name": "python3"
  },
  "language_info": {
   "codemirror_mode": {
    "name": "ipython",
    "version": 3
   },
   "file_extension": ".py",
   "mimetype": "text/x-python",
   "name": "python",
   "nbconvert_exporter": "python",
   "pygments_lexer": "ipython3",
   "version": "3.7.6"
  }
 },
 "nbformat": 4,
 "nbformat_minor": 4
}
